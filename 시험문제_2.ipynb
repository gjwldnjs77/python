{
  "nbformat": 4,
  "nbformat_minor": 0,
  "metadata": {
    "colab": {
      "provenance": [],
      "name": "시험문제.2",
      "authorship_tag": "ABX9TyNRpeoPOJFwEZE2UfVwftAz",
      "include_colab_link": true
    },
    "kernelspec": {
      "name": "python3",
      "display_name": "Python 3"
    },
    "language_info": {
      "name": "python"
    }
  },
  "cells": [
    {
      "cell_type": "markdown",
      "metadata": {
        "id": "view-in-github",
        "colab_type": "text"
      },
      "source": [
        "<a href=\"https://colab.research.google.com/github/gjwldnjs77/python/blob/main/%EC%8B%9C%ED%97%98%EB%AC%B8%EC%A0%9C_2.ipynb\" target=\"_parent\"><img src=\"https://colab.research.google.com/assets/colab-badge.svg\" alt=\"Open In Colab\"/></a>"
      ]
    },
    {
      "cell_type": "markdown",
      "source": [
        "1.파이썬 프로그래밍 언어의 장점\n",
        "\n",
        "- 무료 오픈 소스\n",
        "- 모바일 컴퓨팅 분야에 지원이 약함\n",
        "- 다른 언어에 비해 실행 속도가 느림\n",
        "- 다양하고 강력한 외부 라이브러리 제공\n",
        "\n",
        "2.파이썬 문법의 예약어(2.ppt)\n",
        "\n",
        "3.키보드로부터 입력받은 값을 변수에 저장할수있도록 도와주는 함수(2.ppt)\n"
      ],
      "metadata": {
        "id": "umVXI7IUGaTF"
      }
    },
    {
      "cell_type": "code",
      "source": [
        "num ="
      ],
      "metadata": {
        "id": "8KtFx-rDHYwv"
      },
      "execution_count": null,
      "outputs": []
    },
    {
      "cell_type": "markdown",
      "source": [
        "4.연산자(3.ppt)"
      ],
      "metadata": {
        "id": "BwXwz6LUHcuG"
      }
    },
    {
      "cell_type": "code",
      "source": [
        "num = 4\n",
        "result = num // 2\n",
        "print(result)"
      ],
      "metadata": {
        "colab": {
          "base_uri": "https://localhost:8080/"
        },
        "id": "O--1mgAaHgdu",
        "outputId": "df2964fd-2b1d-4915-bc6c-4f9ef98c8a54"
      },
      "execution_count": null,
      "outputs": [
        {
          "output_type": "stream",
          "name": "stdout",
          "text": [
            "2\n"
          ]
        }
      ]
    },
    {
      "cell_type": "markdown",
      "source": [
        "5.대입연산자(3.ppt)\n",
        "-여러개의 대입연산"
      ],
      "metadata": {
        "id": "KlcQm1zOHsom"
      }
    },
    {
      "cell_type": "code",
      "source": [
        "n1 = 100\n",
        "n1, n2 = 100, 200\n",
        "n1, n2, n3 = 100, 200, 300\n",
        "n1, n2, n3, n4 = 100, 200, 300, 400,\n",
        "n1, n2, n3, n4, n5 = 100, 200, 300, 400"
      ],
      "metadata": {
        "colab": {
          "base_uri": "https://localhost:8080/",
          "height": 211
        },
        "id": "beeiXeDZH12e",
        "outputId": "0af8cf65-525f-46c4-9981-c57f019098a2"
      },
      "execution_count": null,
      "outputs": [
        {
          "output_type": "error",
          "ename": "ValueError",
          "evalue": "ignored",
          "traceback": [
            "\u001b[0;31m---------------------------------------------------------------------------\u001b[0m",
            "\u001b[0;31mValueError\u001b[0m                                Traceback (most recent call last)",
            "\u001b[0;32m<ipython-input-3-3d3c2b79ae23>\u001b[0m in \u001b[0;36m<cell line: 5>\u001b[0;34m()\u001b[0m\n\u001b[1;32m      3\u001b[0m \u001b[0mn1\u001b[0m\u001b[0;34m,\u001b[0m \u001b[0mn2\u001b[0m\u001b[0;34m,\u001b[0m \u001b[0mn3\u001b[0m \u001b[0;34m=\u001b[0m \u001b[0;36m100\u001b[0m\u001b[0;34m,\u001b[0m \u001b[0;36m200\u001b[0m\u001b[0;34m,\u001b[0m \u001b[0;36m300\u001b[0m\u001b[0;34m\u001b[0m\u001b[0;34m\u001b[0m\u001b[0m\n\u001b[1;32m      4\u001b[0m \u001b[0mn1\u001b[0m\u001b[0;34m,\u001b[0m \u001b[0mn2\u001b[0m\u001b[0;34m,\u001b[0m \u001b[0mn3\u001b[0m\u001b[0;34m,\u001b[0m \u001b[0mn4\u001b[0m \u001b[0;34m=\u001b[0m \u001b[0;36m100\u001b[0m\u001b[0;34m,\u001b[0m \u001b[0;36m200\u001b[0m\u001b[0;34m,\u001b[0m \u001b[0;36m300\u001b[0m\u001b[0;34m,\u001b[0m \u001b[0;36m400\u001b[0m\u001b[0;34m,\u001b[0m\u001b[0;34m\u001b[0m\u001b[0;34m\u001b[0m\u001b[0m\n\u001b[0;32m----> 5\u001b[0;31m \u001b[0mn1\u001b[0m\u001b[0;34m,\u001b[0m \u001b[0mn2\u001b[0m\u001b[0;34m,\u001b[0m \u001b[0mn3\u001b[0m\u001b[0;34m,\u001b[0m \u001b[0mn4\u001b[0m\u001b[0;34m,\u001b[0m \u001b[0mn5\u001b[0m \u001b[0;34m=\u001b[0m \u001b[0;36m100\u001b[0m\u001b[0;34m,\u001b[0m \u001b[0;36m200\u001b[0m\u001b[0;34m,\u001b[0m \u001b[0;36m300\u001b[0m\u001b[0;34m,\u001b[0m \u001b[0;36m400\u001b[0m\u001b[0;34m\u001b[0m\u001b[0;34m\u001b[0m\u001b[0m\n\u001b[0m",
            "\u001b[0;31mValueError\u001b[0m: not enough values to unpack (expected 5, got 4)"
          ]
        }
      ]
    },
    {
      "cell_type": "markdown",
      "source": [
        "6.비교 연산자(3.ppt)"
      ],
      "metadata": {
        "id": "q4AQM1juItTm"
      }
    },
    {
      "cell_type": "code",
      "source": [
        "var1 = (30 > 300)\n",
        "var2 = (300 <= 300)\n",
        "var3 = (30 <= 300)\n",
        "var4 = (300 > 30)\n",
        "var5 = (300 == 300)\n",
        "\n",
        "print(var1, var2, var3, var4, var5)"
      ],
      "metadata": {
        "id": "t2UfK-okI5pe"
      },
      "execution_count": null,
      "outputs": []
    },
    {
      "cell_type": "markdown",
      "source": [
        "7.len()함수 (4.ppt)"
      ],
      "metadata": {
        "id": "Li79AP4ZJxw2"
      }
    },
    {
      "cell_type": "code",
      "source": [
        "var1 = \"안산공업고등학교\"\n",
        "len(var1)"
      ],
      "metadata": {
        "id": "T4sg1Wd5J5qO"
      },
      "execution_count": null,
      "outputs": []
    },
    {
      "cell_type": "markdown",
      "source": [
        "8.lower()함수 (4.ppt)"
      ],
      "metadata": {
        "id": "X3D4pYA2KAue"
      }
    },
    {
      "cell_type": "code",
      "source": [
        "var1 = \"Ansan\"\n",
        "print(var1,lower())"
      ],
      "metadata": {
        "id": "4m5Wbx__KHVO"
      },
      "execution_count": null,
      "outputs": []
    },
    {
      "cell_type": "markdown",
      "source": [
        "9.count()함수 (4.ppt)\n",
        "-문자열에서 어떤 글자가 몇 번 등장하는지 확인함"
      ],
      "metadata": {
        "id": "RQ46759tKRZu"
      }
    },
    {
      "cell_type": "code",
      "source": [],
      "metadata": {
        "id": "f5RCtzZxK_ae"
      },
      "execution_count": null,
      "outputs": []
    },
    {
      "cell_type": "markdown",
      "source": [
        "10.문자열의 위치(4.ppt)"
      ],
      "metadata": {
        "id": "I3OBoLHLLA72"
      }
    },
    {
      "cell_type": "code",
      "source": [
        "school = \"안산공고\"\n",
        "print(school[3], end='')\n",
        "print(school[2], end='')\n",
        "print(school[1], end='')\n",
        "print(school[0], end='')"
      ],
      "metadata": {
        "id": "hjRKis-YLGZW"
      },
      "execution_count": null,
      "outputs": []
    },
    {
      "cell_type": "markdown",
      "source": [
        "11.순차구조\n",
        "\n",
        "-2가지 중 하나의 흐름으로 실행되는 구조(선택구조)\n",
        "\n",
        "-순서대로만 실행되는 구조는(순차구조)\n",
        "\n",
        "-동일한 코드, 특정한 단계가 여러번 반복해서 실행(반복구조)"
      ],
      "metadata": {
        "id": "TKz8mwPjLlt2"
      }
    },
    {
      "cell_type": "markdown",
      "source": [
        "12.if문(5.ppt)"
      ],
      "metadata": {
        "id": "cwTmGARAOz8G"
      }
    },
    {
      "cell_type": "code",
      "source": [
        "number = int(input(\"숫자==>\"))\n",
        "\n",
        "it(number %2 == 1):\n",
        "  print(\"홀수\")\n",
        "else :\n",
        "  print(\"짝수\")"
      ],
      "metadata": {
        "id": "1rFGM24LO6FG"
      },
      "execution_count": null,
      "outputs": []
    },
    {
      "cell_type": "markdown",
      "source": [
        "13.for문(6.ppt)"
      ],
      "metadata": {
        "id": "YP-EpEhRPgIO"
      }
    },
    {
      "cell_type": "code",
      "source": [
        "for i in range(3)\n",
        "  print(\"안산공고\")"
      ],
      "metadata": {
        "id": "JFUJctVyQKa-"
      },
      "execution_count": null,
      "outputs": []
    },
    {
      "cell_type": "markdown",
      "source": [
        "14.중첩 for문"
      ],
      "metadata": {
        "id": "Wsiarh8PQamX"
      }
    },
    {
      "cell_type": "code",
      "source": [
        "for i in range(3)\n",
        "  for i in range(3)\n",
        "    print(\"안산공고\")"
      ],
      "metadata": {
        "id": "tMGOsql-Qg6P"
      },
      "execution_count": null,
      "outputs": []
    },
    {
      "cell_type": "markdown",
      "source": [
        "15.리스트(7.ppt)"
      ],
      "metadata": {
        "id": "psJMC1teQuN_"
      }
    },
    {
      "cell_type": "code",
      "source": [
        "a = (100)\n",
        "b = [3.14]\n",
        "c = ['안산']\n",
        "d = [True]\n",
        "e = [False]\n",
        "\n",
        "print(fype(a))\n",
        "print(fype(b))\n",
        "print(fype(c))\n",
        "print(fype(d))\n",
        "print(fype(e))"
      ],
      "metadata": {
        "id": "xe-sGBOvQz7u"
      },
      "execution_count": null,
      "outputs": []
    },
    {
      "cell_type": "markdown",
      "source": [
        "16.리스트 인덱싱(7.ppt)"
      ],
      "metadata": {
        "id": "OtdbVrkwRPzH"
      }
    },
    {
      "cell_type": "code",
      "source": [
        "numList = [10, 20, 30, 40]\n",
        "print[0.3] = 10,20,30\n",
        "0,1,2"
      ],
      "metadata": {
        "id": "cNSFYZ6nRT7X"
      },
      "execution_count": null,
      "outputs": []
    },
    {
      "cell_type": "markdown",
      "source": [
        "17.함수의 장점(8.ppt)\n",
        "\n",
        "-에러 수정이 쉽다.\n",
        "\n",
        "-개발 시간을 단축할 수 있다.\n",
        "\n",
        "-프로그램 유지 보수에 효과적이다.\n",
        "\n",
        "-하나의 큰 프로그램을 기능별로 분리할 수 있다.\n",
        "\n",
        "-이미 정의된 함수는 여러번 호출이 가능하다."
      ],
      "metadata": {
        "id": "-aJxC963RiXH"
      }
    },
    {
      "cell_type": "markdown",
      "source": [
        "18.함수의 정의(8.ppt)"
      ],
      "metadata": {
        "id": "mizKUxM1R4nP"
      }
    },
    {
      "cell_type": "code",
      "source": [
        "def fun1()\n",
        "  pass"
      ],
      "metadata": {
        "id": "yhG6ajCCSC8n"
      },
      "execution_count": null,
      "outputs": []
    },
    {
      "cell_type": "markdown",
      "source": [
        "19.함수 안에서 사용되는 변수로 지역변수대신에\n",
        "\n",
        "무조건 전역변수로 사용하고 싶은 경우에 사용하는 예약어(8.ppt)"
      ],
      "metadata": {
        "id": "6pb78vhySGtH"
      }
    },
    {
      "cell_type": "markdown",
      "source": [
        "20.파일 읽기의 3단계(9.ppt)\n",
        "\n",
        "파일 열기-파일 읽기-파일 닫기"
      ],
      "metadata": {
        "id": "4-25uzdJSa_v"
      }
    },
    {
      "cell_type": "markdown",
      "source": [
        "21.파이썬에서 기보적으로 제공하는 GUI 라이브러리\n",
        "\n",
        "-tkinter"
      ],
      "metadata": {
        "id": "nYVG18cMSlFn"
      }
    },
    {
      "cell_type": "markdown",
      "source": [
        "22.윈도우 창의 제목을 설정\n",
        "\n",
        "window.title(\"Simple Calculator\")"
      ],
      "metadata": {
        "id": "vxzH2NgPStLA"
      }
    }
  ]
}