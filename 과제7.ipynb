{
  "nbformat": 4,
  "nbformat_minor": 0,
  "metadata": {
    "colab": {
      "provenance": [],
      "authorship_tag": "ABX9TyO4PLQnkwd4KBvi3klZO7na",
      "include_colab_link": true
    },
    "kernelspec": {
      "name": "python3",
      "display_name": "Python 3"
    },
    "language_info": {
      "name": "python"
    }
  },
  "cells": [
    {
      "cell_type": "markdown",
      "metadata": {
        "id": "view-in-github",
        "colab_type": "text"
      },
      "source": [
        "<a href=\"https://colab.research.google.com/github/gjwldnjs77/python/blob/main/%EA%B3%BC%EC%A0%9C7.ipynb\" target=\"_parent\"><img src=\"https://colab.research.google.com/assets/colab-badge.svg\" alt=\"Open In Colab\"/></a>"
      ]
    },
    {
      "cell_type": "code",
      "execution_count": null,
      "metadata": {
        "id": "76G5zr1CYDvO"
      },
      "outputs": [],
      "source": [
        "num =200\n",
        "if num > 100 :\n",
        "  print(\"100보다 큽니다\")\n",
        "  print(\"끝\")"
      ]
    },
    {
      "cell_type": "code",
      "source": [
        "num = int(input(\"정수를 입력 : \"))\n",
        "if num%2 ==0 :\n",
        "  print(\"짝수\")\n",
        "  print(\"입니다\")\n",
        "else :\n",
        "  print(\"홀수\")"
      ],
      "metadata": {
        "colab": {
          "base_uri": "https://localhost:8080/"
        },
        "id": "27wXATjtYNOj",
        "outputId": "f9e02f36-f27f-4d30-f640-5c37bd5a0a8b"
      },
      "execution_count": 2,
      "outputs": [
        {
          "output_type": "stream",
          "name": "stdout",
          "text": [
            "정수를 입력 : 5\n",
            "홀수\n"
          ]
        }
      ]
    },
    {
      "cell_type": "code",
      "source": [
        "num = int(input(\"숫자를 입력 : \"))\n",
        "if num >= 100 :\n",
        "  if num <= 1000 :\n",
        "    print(\"100에서 1000사이이다\")\n",
        "  else :\n",
        "    print(\"100보다 크다\")\n",
        "else : \n",
        "  print(\"100보다작다\")"
      ],
      "metadata": {
        "colab": {
          "base_uri": "https://localhost:8080/"
        },
        "id": "xVcsitbBY2ES",
        "outputId": "f606697f-7cc1-4bf3-9bbd-174a2e0fb692"
      },
      "execution_count": 3,
      "outputs": [
        {
          "output_type": "stream",
          "name": "stdout",
          "text": [
            "숫자를 입력 : 10\n",
            "100보다작다\n"
          ]
        }
      ]
    },
    {
      "cell_type": "code",
      "source": [
        "score = int(input(\"점수를 입력 : \"))\n",
        "if score >= 90 :\n",
        "  print(\"A 학점입니다\")\n",
        "else : \n",
        "  if score >= 80 :\n",
        "    print(\"B 학점입니다\")\n",
        "  else : \n",
        "    if score >= 70 :\n",
        "      print(\"C 학점입니다\")\n",
        "    else : \n",
        "      if score >= 60 :\n",
        "        print(\"D 학점입니다\")\n",
        "      else : \n",
        "        print(\"F 학점입니다\")"
      ],
      "metadata": {
        "colab": {
          "base_uri": "https://localhost:8080/"
        },
        "id": "PRxMjjH2cTvt",
        "outputId": "8c8c167f-6efa-407f-84a2-48d1feaa0657"
      },
      "execution_count": 4,
      "outputs": [
        {
          "output_type": "stream",
          "name": "stdout",
          "text": [
            "점수를 입력 : 92\n",
            "A 학점입니다\n"
          ]
        }
      ]
    }
  ]
}