{
  "nbformat": 4,
  "nbformat_minor": 0,
  "metadata": {
    "colab": {
      "provenance": [],
      "authorship_tag": "ABX9TyPyu8AqRoD9Pwch3BLjKkJG",
      "include_colab_link": true
    },
    "kernelspec": {
      "name": "python3",
      "display_name": "Python 3"
    },
    "language_info": {
      "name": "python"
    }
  },
  "cells": [
    {
      "cell_type": "markdown",
      "metadata": {
        "id": "view-in-github",
        "colab_type": "text"
      },
      "source": [
        "<a href=\"https://colab.research.google.com/github/gjwldnjs77/python/blob/main/%EC%84%B8%EA%B3%84%EB%82%98%EB%9D%BC(%EC%88%98%EB%8F%84%2C%EC%9D%B8%EA%B5%AC).ipynb\" target=\"_parent\"><img src=\"https://colab.research.google.com/assets/colab-badge.svg\" alt=\"Open In Colab\"/></a>"
      ]
    },
    {
      "cell_type": "code",
      "execution_count": 13,
      "metadata": {
        "id": "jNjslSXYTJ_k"
      },
      "outputs": [],
      "source": [
        "import os\n",
        "\n",
        "try:\n",
        "  import pymysql\n",
        "except ImportError:\n",
        "  os.system('pip install pymysql')\n"
      ]
    },
    {
      "cell_type": "code",
      "source": [
        "try:\n",
        "  conn = pymysql.connect(host='43.202.4.38',\n",
        "                         port=58978,\n",
        "                         user='wldnjswl7',\n",
        "                         password='ansan',\n",
        "                         db='com3126',\n",
        "                         charset='utf8')\n",
        "  db_into = conn.get_server_info()\n",
        "  print('mysql version : ', db_into)\n",
        "  cur = conn.cursor()\n",
        "except Exception as e:\n",
        "  print('mysql error : ', e)"
      ],
      "metadata": {
        "colab": {
          "base_uri": "https://localhost:8080/"
        },
        "id": "G5xfarujTc8X",
        "outputId": "c5aff9c2-9987-4fa6-a56b-3bba8ff51f9c"
      },
      "execution_count": 39,
      "outputs": [
        {
          "output_type": "stream",
          "name": "stdout",
          "text": [
            "mysql version :  5.7.42-0ubuntu0.18.04.1\n"
          ]
        }
      ]
    },
    {
      "cell_type": "code",
      "source": [
        "import pandas as pd\n",
        "\n",
        "df = pd.read_csv('https://raw.githubusercontent.com/kig2929kig/db/main/Population%20by%20country%20.csv')\n",
        "df\n",
        "#df.head()\n",
        "#df.tail()\n",
        "#df.head(7)\n",
        "#df['Country']"
      ],
      "metadata": {
        "id": "5HP_-RFdXAvm"
      },
      "execution_count": null,
      "outputs": []
    },
    {
      "cell_type": "code",
      "source": [
        "sql = \"create table 세계인구(국가 varchar(50), 수도 varchar(50), 인구수 float)default charset=utf8\"\n",
        "cur.execute(sql)"
      ],
      "metadata": {
        "id": "3lilM6JZXrzV"
      },
      "execution_count": null,
      "outputs": []
    },
    {
      "cell_type": "code",
      "source": [
        "sql = \"drop table 세계인구\"\n",
        "cur.execute(sql)"
      ],
      "metadata": {
        "id": "tyZJlXVDZ_Bl"
      },
      "execution_count": null,
      "outputs": []
    },
    {
      "cell_type": "code",
      "source": [
        "for country, capital, population in zip(df['Country'], df['Capital City'], df['Population']):\n",
        "  #print(country, capital, population)\n",
        "\n",
        "  sql = f'insert into 세계인구 values (\"{country}\", \"{capital}\", \"{population}\")'\n",
        "  print(sql)\n",
        "  cur.execute(sql)\n",
        "\n",
        "conn.commit()"
      ],
      "metadata": {
        "id": "TDeyxznWaKYZ"
      },
      "execution_count": null,
      "outputs": []
    },
    {
      "cell_type": "code",
      "source": [
        "while(True) :\n",
        "  try :\n",
        "    country = input(\"나라를 입력 : \")\n",
        "    if country == \"종료\" :\n",
        "      break;\n",
        "    else :\n",
        "      sql = f\"select * from 세계인구 where 국가 = '{country}'\"\n",
        "      cur.execute(sql)\n",
        "      result = cur.fetchone()\n",
        "\n",
        "      print(\"국가 : \" + result[0])\n",
        "      print(\"수도 : \" + result[1])\n",
        "      print(\"수도의 인구 수 : \", + result[2], \"명\")\n",
        "  except :\n",
        "    print(\"국가명을 잘못 입력했거나 없는 국가입니다.\")"
      ],
      "metadata": {
        "colab": {
          "base_uri": "https://localhost:8080/"
        },
        "id": "suSTepPlx5GM",
        "outputId": "f0dd01d3-09f5-4dd5-bb39-8c33721cbc4d"
      },
      "execution_count": 33,
      "outputs": [
        {
          "name": "stdout",
          "output_type": "stream",
          "text": [
            "나라를 입력 : Republic of Korea\n",
            "국가 : Republic of Korea\n",
            "수도 : Seoul\n",
            "수도의 인구 수 :  9963500.0 명\n",
            "나라를 입력 : asfdgafe\n",
            "국가명을 잘못 입력했거나 없는 국가입니다.\n",
            "나라를 입력 : 종료\n"
          ]
        }
      ]
    },
    {
      "cell_type": "code",
      "source": [
        "import random\n",
        "\n",
        "def info_country\n",
        "sql = \"select count(*) from 세계인구\"\n",
        "cur.execute(sql)\n",
        "\n",
        "for r in cur.range(rand) :\n",
        "  row_count = r[0]\n",
        "rand = random.randrange(0, row_count)\n",
        "\n",
        "sql = f\"select * from 세계인구\"\n",
        "cur.execute(sql)\n",
        "\n",
        "for r in cur.fetchall() :\n",
        "  row_count = r[0]\n",
        "rand = random.randrange(0, row_count)\n",
        "\n",
        "score = 0\n",
        "for i in range(10) :\n",
        "  info = info_country()\n",
        "  try :\n",
        "    c = input(\"(info[0])의 수도를 입력 : \")\n",
        "    if c == str(info[1]) :\n",
        "      print(\"정답입니다.\")\n",
        "      score = score + 1\n",
        "  except:\n",
        "    print(\"오답입니다.\")\n",
        "\n",
        "print(\"당신의 점수는 : \", score, \"점입니다.\")"
      ],
      "metadata": {
        "colab": {
          "base_uri": "https://localhost:8080/"
        },
        "id": "aCiXfIr12X-q",
        "outputId": "3ebccc04-087a-4039-a99b-e8942d8ed8f2"
      },
      "execution_count": 38,
      "outputs": [
        {
          "output_type": "stream",
          "name": "stdout",
          "text": [
            "234\n"
          ]
        }
      ]
    }
  ]
}