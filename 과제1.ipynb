{
  "nbformat": 4,
  "nbformat_minor": 0,
  "metadata": {
    "colab": {
      "provenance": [],
      "authorship_tag": "ABX9TyPaKR2Qtdm2QC9epFYJPkWN",
      "include_colab_link": true
    },
    "kernelspec": {
      "name": "python3",
      "display_name": "Python 3"
    },
    "language_info": {
      "name": "python"
    }
  },
  "cells": [
    {
      "cell_type": "markdown",
      "metadata": {
        "id": "view-in-github",
        "colab_type": "text"
      },
      "source": [
        "<a href=\"https://colab.research.google.com/github/gjwldnjs77/python/blob/main/%EA%B3%BC%EC%A0%9C1.ipynb\" target=\"_parent\"><img src=\"https://colab.research.google.com/assets/colab-badge.svg\" alt=\"Open In Colab\"/></a>"
      ]
    },
    {
      "cell_type": "markdown",
      "source": [],
      "metadata": {
        "id": "ueiNZt3tGTaI"
      }
    },
    {
      "cell_type": "code",
      "source": [
        "print(\"## 택배를 보내기 위한 정보를 입력하세요. ##\")\n",
        "recieve_name = input(\"받는사람 : \")\n",
        "address = input(\"주소 : \")\n",
        "weight = int(input(\"무게(g) : \"))\n",
        "print(\"** 받는 사람 ==> \", recieve_name)\n",
        "print(\"** 주소 ==> \", address)\n",
        "print(\"** 배송비 ==> \", weight*5, \"원\")"
      ],
      "metadata": {
        "colab": {
          "base_uri": "https://localhost:8080/"
        },
        "id": "Xz_pvMGvX0kR",
        "outputId": "df778c4e-5386-4058-a50f-0a8c6e0fa8ae"
      },
      "execution_count": 1,
      "outputs": [
        {
          "output_type": "stream",
          "name": "stdout",
          "text": [
            "## 택배를 보내기 위한 정보를 입력하세요. ##\n",
            "받는사람 : 허지원\n",
            "주소 : 밍허;미허\n",
            "무게(g) : 60\n",
            "** 받는 사람 ==>  허지원\n",
            "** 주소 ==>  밍허;미허\n",
            "** 배송비 ==>  300 원\n"
          ]
        }
      ]
    }
  ]
}