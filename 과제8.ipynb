{
  "nbformat": 4,
  "nbformat_minor": 0,
  "metadata": {
    "colab": {
      "provenance": [],
      "authorship_tag": "ABX9TyPUpTc0HWCATsisMAh9LV+G",
      "include_colab_link": true
    },
    "kernelspec": {
      "name": "python3",
      "display_name": "Python 3"
    },
    "language_info": {
      "name": "python"
    }
  },
  "cells": [
    {
      "cell_type": "markdown",
      "metadata": {
        "id": "view-in-github",
        "colab_type": "text"
      },
      "source": [
        "<a href=\"https://colab.research.google.com/github/gjwldnjs77/python/blob/main/%EA%B3%BC%EC%A0%9C8.ipynb\" target=\"_parent\"><img src=\"https://colab.research.google.com/assets/colab-badge.svg\" alt=\"Open In Colab\"/></a>"
      ]
    },
    {
      "cell_type": "code",
      "execution_count": 2,
      "metadata": {
        "colab": {
          "base_uri": "https://localhost:8080/"
        },
        "id": "QyMhKJjSYRq8",
        "outputId": "d55ca3b2-741a-4dac-ea88-f26c3efa2be0"
      },
      "outputs": [
        {
          "output_type": "stream",
          "name": "stdout",
          "text": [
            "32\n"
          ]
        }
      ],
      "source": [
        "import random\n",
        "\n",
        "rndNumber = random.randint(1,45)\n",
        "\n",
        "print(rndNumber)"
      ]
    },
    {
      "cell_type": "code",
      "source": [
        "import random\n",
        "lottoNumber = [0,0,0,0,0,0]\n",
        "\n",
        "for i in range(6):\n",
        "   lottoNumber[i] = random.randint(1,45)\n",
        "for i in range(6):\n",
        "   print(lottoNumber[i],end=\" \")"
      ],
      "metadata": {
        "colab": {
          "base_uri": "https://localhost:8080/"
        },
        "id": "v-lXPEKVZY9z",
        "outputId": "cb4cb829-86d2-49d9-d787-2d30a0f14e01"
      },
      "execution_count": 4,
      "outputs": [
        {
          "output_type": "stream",
          "name": "stdout",
          "text": [
            "15 11 7 8 9 17 "
          ]
        }
      ]
    },
    {
      "cell_type": "code",
      "source": [
        "import random\n",
        "\n",
        "foods = [\"떡볶기\",\"소고기\",\"삼겹살\",\"닭갈비\",\"라면\",\"돼지갈비\",\"덮밥\"]\n",
        "result = random.choice(foods)\n",
        "print(result)"
      ],
      "metadata": {
        "colab": {
          "base_uri": "https://localhost:8080/"
        },
        "id": "ZOxNJyQQco4D",
        "outputId": "24db4d9d-e933-4972-8743-cf012f7506f4"
      },
      "execution_count": 11,
      "outputs": [
        {
          "output_type": "stream",
          "name": "stdout",
          "text": [
            "삼겹살\n"
          ]
        }
      ]
    },
    {
      "cell_type": "code",
      "source": [
        "import random\n",
        "computer = \"\"\n",
        "player = (\"나의 가위/바위/보\")\n",
        "computer = random.choice([\"가위\",\"바위\",\"보\"])\n",
        "if player == computer :\n",
        "  print(\"무승부\")\n",
        "elif (player == \"가위\" and computer == \"보\") or (player == \"바위\" and computer == \"가위\") or (player == \"보\" and computer == \"주먹\") :\n",
        "  print(\"이겼다\")\n",
        "else :\n",
        "  print(\"졌다\")\n",
        "\n",
        "print(player,computer)"
      ],
      "metadata": {
        "colab": {
          "base_uri": "https://localhost:8080/"
        },
        "id": "xTAFkUhrdDua",
        "outputId": "fd7a8a12-9db3-4ad5-e67b-724cfcc8e379"
      },
      "execution_count": 9,
      "outputs": [
        {
          "output_type": "stream",
          "name": "stdout",
          "text": [
            "졌다\n",
            "나의 가위/바위/보 가위\n"
          ]
        }
      ]
    }
  ]
}