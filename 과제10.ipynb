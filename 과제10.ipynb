{
  "nbformat": 4,
  "nbformat_minor": 0,
  "metadata": {
    "colab": {
      "provenance": [],
      "authorship_tag": "ABX9TyP/QDdcxqSKwrxctUBNaXDB",
      "include_colab_link": true
    },
    "kernelspec": {
      "name": "python3",
      "display_name": "Python 3"
    },
    "language_info": {
      "name": "python"
    }
  },
  "cells": [
    {
      "cell_type": "markdown",
      "metadata": {
        "id": "view-in-github",
        "colab_type": "text"
      },
      "source": [
        "<a href=\"https://colab.research.google.com/github/gjwldnjs77/python/blob/main/%EA%B3%BC%EC%A0%9C10.ipynb\" target=\"_parent\"><img src=\"https://colab.research.google.com/assets/colab-badge.svg\" alt=\"Open In Colab\"/></a>"
      ]
    },
    {
      "cell_type": "code",
      "execution_count": 5,
      "metadata": {
        "colab": {
          "base_uri": "https://localhost:8080/"
        },
        "id": "7NnF6G3VQTjL",
        "outputId": "c7150601-5126-440e-ccf7-9e9ef821a1ac"
      },
      "outputs": [
        {
          "output_type": "stream",
          "name": "stdout",
          "text": [
            "주사위 3개가 모두  1 이다.\n",
            "같은 숫자가 나오기 까지  80 번 던졌다.\n"
          ]
        }
      ],
      "source": [
        "import random\n",
        "count = 0\n",
        "while True :\n",
        "  dice1 = random.randint(1,6)\n",
        "  dice2 = random.randint(1,6)\n",
        "  dice3 = random.randint(1,6)\n",
        "  count = count + 1\n",
        "  if dice1 == dice2 == dice3 :\n",
        "    print(\"주사위 3개가 모두 \", dice1, \"이다.\")\n",
        "    print(\"같은 숫자가 나오기 까지 \", count, \"번 던졌다.\")\n",
        "    break "
      ]
    },
    {
      "cell_type": "code",
      "source": [
        "import random\n",
        "\n",
        "game_count = 1\n",
        "computer_num = 0\n",
        "player = 0\n",
        "while game_count <= 10 :\n",
        "  computer_num = random.randint(1,5)\n",
        "  print(\"제\", game_count, \"회 : \", end=\" \")\n",
        "  player = int(input(\"컴퓨터가 생각한 숫자는 ? \" ))\n",
        "  game_count = game_count + 1\n",
        "  count = count + 1\n",
        "  if player == computer_num :\n",
        "    print(\"맞혔네요. 축하합니다!!\")\n",
        "    pr5int(\"게임을 마칩니다\")\n",
        "    break\n",
        "  else :\n",
        "    print(\"아까워요\", computer_num, \"였는데요. 다시 해보세요 ㅠㅠ\")"
      ],
      "metadata": {
        "colab": {
          "base_uri": "https://localhost:8080/"
        },
        "id": "XwlJWzhwSI7t",
        "outputId": "5df99667-a1d1-47e1-8ca0-c12e55c95f9d"
      },
      "execution_count": 11,
      "outputs": [
        {
          "output_type": "stream",
          "name": "stdout",
          "text": [
            "제 1 회 :  컴퓨터가 생각한 숫자는 ? 1\n",
            "아까워요 5 였는데요. 다시 해보세요 ㅠㅠ\n",
            "제 2 회 :  컴퓨터가 생각한 숫자는 ? 2\n",
            "아까워요 3 였는데요. 다시 해보세요 ㅠㅠ\n",
            "제 3 회 :  컴퓨터가 생각한 숫자는 ? 3\n",
            "아까워요 5 였는데요. 다시 해보세요 ㅠㅠ\n",
            "제 4 회 :  컴퓨터가 생각한 숫자는 ? 4\n",
            "아까워요 5 였는데요. 다시 해보세요 ㅠㅠ\n",
            "제 5 회 :  컴퓨터가 생각한 숫자는 ? 5\n",
            "맞혔네요. 축하합니다!!\n",
            "게임을 마칩니다\n"
          ]
        }
      ]
    },
    {
      "cell_type": "code",
      "source": [
        "import random\n",
        "game_count = 1\n",
        "secret_number = random.sample(range(1,10),3) # range()\n",
        "print(secret_number)\n",
        "while game_count <= 10 :\n",
        "  strike = 0\n",
        "  ball = 0\n",
        "  player_number = input(\"3자리 숫자를 입력 :\")\n",
        "  player_number = list(player_number)\n",
        "  player_number[0] = int(player_number[0])\n",
        "  player_number[1] = int(player_number[1])\n",
        "  player_number[2] = int(player_number[2])\n",
        "\n",
        "  if(secret_number[0] == player_number[0]) :\n",
        "    strike = strike + 1\n",
        "  elif player_number[0] in secret_number :\n",
        "    ball = ball + 1\n",
        "  if(secret_number[1] == player_number[1]) :\n",
        "    strike = strike + 1\n",
        "  elif player_number[1] in secret_number :\n",
        "    ball = ball + 1  \n",
        "  if(secret_number[2] == player_number[2]) :\n",
        "    strike = strike + 1\n",
        "  elif player_number[2] in secret_number :\n",
        "    ball = ball + 1  \n",
        "  \n",
        "  print(strike,\"스트라이크 // \", ball,\"볼\")\n",
        "  if strike == 3 :\n",
        "    print(\"승리\")\n",
        "    break"
      ],
      "metadata": {
        "colab": {
          "base_uri": "https://localhost:8080/"
        },
        "id": "mH5ZzZ_1Xfvd",
        "outputId": "9ff9eb2c-1280-4b9e-e166-32b3a231b887"
      },
      "execution_count": 16,
      "outputs": [
        {
          "output_type": "stream",
          "name": "stdout",
          "text": [
            "[5, 4, 8]\n",
            "3자리 숫자를 입력 :536\n",
            "1 스트라이크 //  0 볼\n",
            "3자리 숫자를 입력 :6423\n",
            "1 스트라이크 //  0 볼\n",
            "3자리 숫자를 입력 :645\n",
            "1 스트라이크 //  1 볼\n",
            "3자리 숫자를 입력 :845\n",
            "1 스트라이크 //  2 볼\n",
            "3자리 숫자를 입력 :548\n",
            "3 스트라이크 //  0 볼\n",
            "승리\n"
          ]
        }
      ]
    },
    {
      "cell_type": "code",
      "source": [],
      "metadata": {
        "id": "p6X8BaDBhtjl"
      },
      "execution_count": null,
      "outputs": []
    }
  ]
}