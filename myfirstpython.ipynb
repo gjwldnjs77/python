{
  "nbformat": 4,
  "nbformat_minor": 0,
  "metadata": {
    "colab": {
      "provenance": [],
      "authorship_tag": "ABX9TyMtS16elX0VYhJ9aVzLWAtP",
      "include_colab_link": true
    },
    "kernelspec": {
      "name": "python3",
      "display_name": "Python 3"
    },
    "language_info": {
      "name": "python"
    }
  },
  "cells": [
    {
      "cell_type": "markdown",
      "metadata": {
        "id": "view-in-github",
        "colab_type": "text"
      },
      "source": [
        "<a href=\"https://colab.research.google.com/github/gjwldnjs77/python/blob/main/myfirstpython.ipynb\" target=\"_parent\"><img src=\"https://colab.research.google.com/assets/colab-badge.svg\" alt=\"Open In Colab\"/></a>"
      ]
    },
    {
      "cell_type": "markdown",
      "source": [
        "2023학년도 응용프로그래밍 화면구현  \n",
        "파이썬 기초"
      ],
      "metadata": {
        "id": "4rA3os0zi8Ya"
      }
    },
    {
      "cell_type": "code",
      "source": [
        "print(\"안산공업고등학교\")\n",
        "print(\"컴퓨터과 3학년 1반 26번\")\n",
        "print(\"허지원\")"
      ],
      "metadata": {
        "colab": {
          "base_uri": "https://localhost:8080/"
        },
        "id": "FzYv0lHrjH-7",
        "outputId": "9ffdc30e-ce54-4b5a-e7b6-0f0e1d36f9c6"
      },
      "execution_count": 1,
      "outputs": [
        {
          "output_type": "stream",
          "name": "stdout",
          "text": [
            "안산공업고등학교\n",
            "컴퓨터과 3학년 1반 26번\n",
            "허지원\n"
          ]
        }
      ]
    }
  ]
}