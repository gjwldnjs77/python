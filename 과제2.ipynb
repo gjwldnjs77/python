{
  "nbformat": 4,
  "nbformat_minor": 0,
  "metadata": {
    "colab": {
      "provenance": [],
      "authorship_tag": "ABX9TyPGYri2JYp4NjZzwMy+b1ON",
      "include_colab_link": true
    },
    "kernelspec": {
      "name": "python3",
      "display_name": "Python 3"
    },
    "language_info": {
      "name": "python"
    }
  },
  "cells": [
    {
      "cell_type": "markdown",
      "metadata": {
        "id": "view-in-github",
        "colab_type": "text"
      },
      "source": [
        "<a href=\"https://colab.research.google.com/github/gjwldnjs77/python/blob/main/%EA%B3%BC%EC%A0%9C2.ipynb\" target=\"_parent\"><img src=\"https://colab.research.google.com/assets/colab-badge.svg\" alt=\"Open In Colab\"/></a>"
      ]
    },
    {
      "cell_type": "code",
      "execution_count": 5,
      "metadata": {
        "colab": {
          "base_uri": "https://localhost:8080/"
        },
        "id": "fyFAwSQJG_jA",
        "outputId": "0858a7be-3f39-416e-ba90-6b32f88115a6"
      },
      "outputs": [
        {
          "output_type": "stream",
          "name": "stdout",
          "text": [
            "숫자 ==> 100\n",
            "숫자 ==> 10\n",
            "100 + 10 = 110\n",
            "100 - 10 = 90\n",
            "100 * 10 = 1000\n",
            "100 / 10 = 10.0\n",
            "100 % 10 = 0\n",
            "100 ** 10 = 100000000000000000000\n"
          ]
        }
      ],
      "source": [
        "num1 = int(input(\"숫자 ==> \"))\n",
        "num2 = int(input(\"숫자 ==> \"))\n",
        "\n",
        "sum1 = num1 + num2\n",
        "sum2 = num1 - num2\n",
        "sum3 = num1 * num2\n",
        "sum4 = num1 / num2\n",
        "sum5 = num1 % num2\n",
        "sum6 = num1 ** num2\n",
        "\n",
        "print(num1, \"+\", num2, \"=\", sum1)\n",
        "print(num1, \"-\", num2, \"=\", sum2)\n",
        "print(num1, \"*\", num2, \"=\", sum3)\n",
        "print(num1, \"/\", num2, \"=\", sum4)\n",
        "print(num1, \"%\", num2, \"=\", sum5)\n",
        "print(num1, \"**\", num2, \"=\", sum6)\n"
      ]
    }
  ]
}