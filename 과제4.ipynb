{
  "nbformat": 4,
  "nbformat_minor": 0,
  "metadata": {
    "colab": {
      "provenance": [],
      "authorship_tag": "ABX9TyMDhBqurdeHQP/Cbxep3F3Y",
      "include_colab_link": true
    },
    "kernelspec": {
      "name": "python3",
      "display_name": "Python 3"
    },
    "language_info": {
      "name": "python"
    }
  },
  "cells": [
    {
      "cell_type": "markdown",
      "metadata": {
        "id": "view-in-github",
        "colab_type": "text"
      },
      "source": [
        "<a href=\"https://colab.research.google.com/github/gjwldnjs77/python/blob/main/%EA%B3%BC%EC%A0%9C4.ipynb\" target=\"_parent\"><img src=\"https://colab.research.google.com/assets/colab-badge.svg\" alt=\"Open In Colab\"/></a>"
      ]
    },
    {
      "cell_type": "code",
      "execution_count": 4,
      "metadata": {
        "colab": {
          "base_uri": "https://localhost:8080/"
        },
        "id": "Raet0fhaVfYn",
        "outputId": "b00bc9db-1df5-4663-ec20-a07fb4f2b898"
      },
      "outputs": [
        {
          "output_type": "stream",
          "name": "stdout",
          "text": [
            "오늘 총 매출액은 11600 원입니다. \n"
          ]
        }
      ],
      "source": [
        "triangleGimbap = 900\n",
        "bananaMilk = 1800\n",
        "lunchbox = 3500\n",
        "lunchbox2 = 4000\n",
        "Cola = 1500\n",
        "shrimpcrackers = 2000\n",
        "cannedcoffee = 1800\n",
        "\n",
        "purchasePrice = triangleGimbap * 10 + lunchbox * 5\n",
        "salePrice = bananaMilk * 2 + lunchbox2 * 4 + Cola + shrimpcrackers * 4 + cannedcoffee * 5\n",
        "\n",
        "print(\"오늘 총 매출액은\", salePrice - purchasePrice, \"원입니다. \")"
      ]
    }
  ]
}