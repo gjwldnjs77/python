{
  "nbformat": 4,
  "nbformat_minor": 0,
  "metadata": {
    "colab": {
      "provenance": [],
      "authorship_tag": "ABX9TyNRnPbW8eogRaViNVTRa/Jc",
      "include_colab_link": true
    },
    "kernelspec": {
      "name": "python3",
      "display_name": "Python 3"
    },
    "language_info": {
      "name": "python"
    }
  },
  "cells": [
    {
      "cell_type": "markdown",
      "metadata": {
        "id": "view-in-github",
        "colab_type": "text"
      },
      "source": [
        "<a href=\"https://colab.research.google.com/github/gjwldnjs77/python/blob/main/%EA%B3%BC%EC%A0%9C6.ipynb\" target=\"_parent\"><img src=\"https://colab.research.google.com/assets/colab-badge.svg\" alt=\"Open In Colab\"/></a>"
      ]
    },
    {
      "cell_type": "code",
      "execution_count": 9,
      "metadata": {
        "colab": {
          "base_uri": "https://localhost:8080/"
        },
        "id": "hQEBhhq0I9LO",
        "outputId": "8cb5b904-fd68-4232-956a-2e882705d3ef"
      },
      "outputs": [
        {
          "output_type": "stream",
          "name": "stdout",
          "text": [
            "원본 문자열 :  트 와 이 스\n",
            "반대 문자열 :  스이와트\n"
          ]
        }
      ],
      "source": [
        "singer = [\"트\",\"와\",\"이\",\"스\"]\n",
        "reverse_singer = singer[3] + singer[2] + singer[1] + singer[0]\n",
        "\n",
        "print(\"원본 문자열 : \", singer[0], singer[1], singer[2], singer[3])\n",
        "print(\"반대 문자열 : \", reverse_singer)"
      ]
    },
    {
      "cell_type": "code",
      "source": [
        "singer = \"트와이스\"\n",
        "\n",
        "print(\"원본 문자열 : \", singer)\n",
        "print(\"반대 문자열 : \", singer[::-1])"
      ],
      "metadata": {
        "colab": {
          "base_uri": "https://localhost:8080/"
        },
        "id": "jQMTikTYPs6T",
        "outputId": "6bcbb8a1-1275-454c-c37e-6c866f45ce24"
      },
      "execution_count": 5,
      "outputs": [
        {
          "output_type": "stream",
          "name": "stdout",
          "text": [
            "원본 문자열 :  트와이스\n",
            "반대 문자열 :  스이와트\n"
          ]
        }
      ]
    },
    {
      "cell_type": "code",
      "source": [
        "myString = \"Python\"\n",
        "print(myString)\n",
        "resultString = myString[0].lower() + myString[1:6].upper()\n",
        "print(resultString)\n"
      ],
      "metadata": {
        "colab": {
          "base_uri": "https://localhost:8080/"
        },
        "id": "L4XWQmhGQ43i",
        "outputId": "a8b8b139-0b5b-42de-b9f0-9aec3bf0d9de"
      },
      "execution_count": 12,
      "outputs": [
        {
          "output_type": "stream",
          "name": "stdout",
          "text": [
            "Python\n",
            "pYTHON\n"
          ]
        }
      ]
    }
  ]
}