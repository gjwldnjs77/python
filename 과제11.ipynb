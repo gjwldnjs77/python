{
  "nbformat": 4,
  "nbformat_minor": 0,
  "metadata": {
    "colab": {
      "provenance": [],
      "authorship_tag": "ABX9TyMK3Sv7UOakLNc4UIjjkY8/",
      "include_colab_link": true
    },
    "kernelspec": {
      "name": "python3",
      "display_name": "Python 3"
    },
    "language_info": {
      "name": "python"
    }
  },
  "cells": [
    {
      "cell_type": "markdown",
      "metadata": {
        "id": "view-in-github",
        "colab_type": "text"
      },
      "source": [
        "<a href=\"https://colab.research.google.com/github/gjwldnjs77/python/blob/main/%EA%B3%BC%EC%A0%9C11.ipynb\" target=\"_parent\"><img src=\"https://colab.research.google.com/assets/colab-badge.svg\" alt=\"Open In Colab\"/></a>"
      ]
    },
    {
      "cell_type": "code",
      "execution_count": 1,
      "metadata": {
        "colab": {
          "base_uri": "https://localhost:8080/"
        },
        "id": "uCexkLGMn6u1",
        "outputId": "89c4a835-45ab-4f33-cee6-e073054cd1ce"
      },
      "outputs": [
        {
          "output_type": "stream",
          "name": "stdout",
          "text": [
            "숫자 : 10\n",
            "숫자 : 20\n",
            "숫자 : 30\n",
            "숫자 : 40\n",
            "숫자 : 50\n",
            "리스트의 합계 : 150\n"
          ]
        }
      ],
      "source": [
        "numList = [0,0,0,0,0]\n",
        "\n",
        "numList[0] = input(\"숫자 : \")\n",
        "numList[1] = input(\"숫자 : \")\n",
        "numList[2] = input(\"숫자 : \")\n",
        "numList[3] = input(\"숫자 : \")\n",
        "numList[4] = input(\"숫자 : \")\n",
        "\n",
        "sum = int(numList[0]) + int(numList[1]) + int(numList[2]) + int(numList[3]) + int(numList[4])\n",
        "print(\"리스트의 합계 :\", sum)\n"
      ]
    },
    {
      "cell_type": "code",
      "source": [
        "myList =[]\n",
        "myList.append(\"안산\")\n",
        "myList.append(\"공고\")\n",
        "myList.append(3100)\n",
        "myList.append(777)\n",
        "\n",
        "print(myList)"
      ],
      "metadata": {
        "colab": {
          "base_uri": "https://localhost:8080/"
        },
        "id": "ZMSlVI1Cqfck",
        "outputId": "408d2be9-848b-4da6-b55e-45d1ad313da1"
      },
      "execution_count": 2,
      "outputs": [
        {
          "output_type": "stream",
          "name": "stdout",
          "text": [
            "['안산', '공고', 3100, 777]\n"
          ]
        }
      ]
    },
    {
      "cell_type": "code",
      "source": [
        "import random\n",
        "wiseSay = [\"중요한 것은 꺽기지 않는 마음\",\n",
        "           \"너 자신을 알라\",\n",
        "           \"신은 용기있는 자를 결코 버리지 않는다.\",\n",
        "           \"내일은 내일의 태양이 뜬다.\",\n",
        "           \"이 또한 지나가리\"]\n",
        "rnd_say = random.sample(wiseSay, 1)\n",
        "print(\"오늘의 명언 ==> \", rnd_say)"
      ],
      "metadata": {
        "colab": {
          "base_uri": "https://localhost:8080/"
        },
        "id": "RKhUuqADtmLp",
        "outputId": "ce62fef6-b2a4-4b32-8bdc-7c3e501f99a7"
      },
      "execution_count": 13,
      "outputs": [
        {
          "output_type": "stream",
          "name": "stdout",
          "text": [
            "오늘의 명언 ==>  ['중요한 것은 꺽기지 않는 마음']\n"
          ]
        }
      ]
    },
    {
      "cell_type": "code",
      "source": [
        "import datetime\n",
        "\n",
        "now = datetime.date.today()\n",
        "birthday = datetime.date(2005, 12,06)\n",
        "age = now - birthday\n",
        "print(age.days/365)"
      ],
      "metadata": {
        "colab": {
          "base_uri": "https://localhost:8080/",
          "height": 137
        },
        "id": "SIaboi1NzMvJ",
        "outputId": "e8414406-61d1-42f3-8587-6237c4b41ba2"
      },
      "execution_count": 15,
      "outputs": [
        {
          "output_type": "error",
          "ename": "SyntaxError",
          "evalue": "ignored",
          "traceback": [
            "\u001b[0;36m  File \u001b[0;32m\"<ipython-input-15-ec3ca4694445>\"\u001b[0;36m, line \u001b[0;32m4\u001b[0m\n\u001b[0;31m    birthday = datetime.date(2005, 12,06)\u001b[0m\n\u001b[0m                                       ^\u001b[0m\n\u001b[0;31mSyntaxError\u001b[0m\u001b[0;31m:\u001b[0m leading zeros in decimal integer literals are not permitted; use an 0o prefix for octal integers\n"
          ]
        }
      ]
    }
  ]
}