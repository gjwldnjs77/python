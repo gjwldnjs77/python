{
  "nbformat": 4,
  "nbformat_minor": 0,
  "metadata": {
    "colab": {
      "provenance": [],
      "authorship_tag": "ABX9TyPGM6AtD7u59kXEXU1q5maV",
      "include_colab_link": true
    },
    "kernelspec": {
      "name": "python3",
      "display_name": "Python 3"
    },
    "language_info": {
      "name": "python"
    }
  },
  "cells": [
    {
      "cell_type": "markdown",
      "metadata": {
        "id": "view-in-github",
        "colab_type": "text"
      },
      "source": [
        "<a href=\"https://colab.research.google.com/github/gjwldnjs77/python/blob/main/%EA%B3%BC%EC%A0%9C9.ipynb\" target=\"_parent\"><img src=\"https://colab.research.google.com/assets/colab-badge.svg\" alt=\"Open In Colab\"/></a>"
      ]
    },
    {
      "cell_type": "code",
      "execution_count": null,
      "metadata": {
        "id": "E6iyWW7pc2GM"
      },
      "outputs": [],
      "source": [
        "for i in range(0,3,1):\n",
        "  print(i, \"컴퓨터과 3학년 1반\")"
      ]
    },
    {
      "cell_type": "code",
      "source": [
        "for i in [0,1,2,3,4] :\n",
        "  print(i, \"컴퓨터과 3학년 1반\")"
      ],
      "metadata": {
        "id": "e6eBxcsXdjGZ"
      },
      "execution_count": null,
      "outputs": []
    },
    {
      "cell_type": "code",
      "source": [
        "for i in [\"봄\",\"여름\",\"가을\",\"겨울\"]:\n",
        "  print(i, \"컴퓨터과 3학년 1반\")"
      ],
      "metadata": {
        "id": "CcDgFvA8dyRA"
      },
      "execution_count": null,
      "outputs": []
    },
    {
      "cell_type": "code",
      "source": [
        "for i in range(1,11,1):\n",
        "  print(i, \"컴퓨터과\")"
      ],
      "metadata": {
        "id": "ReKQopqTePfg"
      },
      "execution_count": null,
      "outputs": []
    },
    {
      "cell_type": "code",
      "source": [
        "for i in range(2,6,1):\n",
        "  print(i, end=\" \")"
      ],
      "metadata": {
        "id": "gsL5N2hXe4B5"
      },
      "execution_count": null,
      "outputs": []
    },
    {
      "cell_type": "code",
      "source": [
        "result = 1\n",
        "\n",
        "for i in range(1,6,1):\n",
        "  result = result * i\n",
        "  \n",
        "print(\"A,B,C,D,E 학생들을 순서대로 세우는 경우의 수 : \",result)"
      ],
      "metadata": {
        "id": "qpvroUyXfYdT"
      },
      "execution_count": null,
      "outputs": []
    },
    {
      "cell_type": "code",
      "source": [
        "sum = 0\n",
        "\n",
        "for i in range(1,11,1):\n",
        "  sum = sum + i\n",
        "print(sum)"
      ],
      "metadata": {
        "id": "E-83aYNOh2WR"
      },
      "execution_count": null,
      "outputs": []
    },
    {
      "cell_type": "code",
      "source": [
        "odd_sum = 0\n",
        "for i in range(1001,2001,2):\n",
        "  odd_sum = odd_sum + i\n",
        "print(odd_sum)"
      ],
      "metadata": {
        "id": "G6QNxSlCie8x"
      },
      "execution_count": null,
      "outputs": []
    },
    {
      "cell_type": "code",
      "source": [
        "odd_sum = 0\n",
        "for i in range(1000,2001,1):\n",
        "  if i%2 ==1:\n",
        "    odd_sum = odd_sum + i\n",
        "print(odd_sum)"
      ],
      "metadata": {
        "id": "aZOgPnmgjEDK"
      },
      "execution_count": null,
      "outputs": []
    },
    {
      "cell_type": "code",
      "source": [
        "i, hap =0, 0\n",
        "for i in range(500,1001,2):\n",
        "  hap += i\n",
        "print(\"500에서 1000까지의 짝수의 합 :\", hap)"
      ],
      "metadata": {
        "id": "5Okl4cFPjtFZ"
      },
      "execution_count": null,
      "outputs": []
    },
    {
      "cell_type": "code",
      "source": [
        "for i in range(3):\n",
        "  for k in range(2):\n",
        "    print(\"난생처음은 쉽습니다. ^^(i값:\", i,\" k값:\",k,\")\")"
      ],
      "metadata": {
        "id": "1Yn8mdBVkyIL"
      },
      "execution_count": null,
      "outputs": []
    },
    {
      "cell_type": "code",
      "source": [
        "for i in range(1,10,1):\n",
        "  for k in range(2,10,1):\n",
        "    print(k, \"X\", i, \"=\", i*k, end = \"   \")\n",
        "  print(\"\\n\")"
      ],
      "metadata": {
        "id": "WIJy6CjKqQFr"
      },
      "execution_count": null,
      "outputs": []
    },
    {
      "cell_type": "code",
      "source": [
        "i=0\n",
        "while(i<3):\n",
        "  print(\"컴퓨터과 3학년 1반\")\n",
        "  i = i + 1 "
      ],
      "metadata": {
        "colab": {
          "base_uri": "https://localhost:8080/"
        },
        "id": "cQ-wIldmtons",
        "outputId": "d6dc135c-bdb9-4ce3-b8c5-9bd52468a226"
      },
      "execution_count": 38,
      "outputs": [
        {
          "output_type": "stream",
          "name": "stdout",
          "text": [
            "컴퓨터과 3학년 1반\n",
            "컴퓨터과 3학년 1반\n",
            "컴퓨터과 3학년 1반\n"
          ]
        }
      ]
    },
    {
      "cell_type": "code",
      "source": [
        "i=0\n",
        "while True :\n",
        "  print(\"ㅎ\", end=\" \")\n",
        "  i = i + 1\n",
        "  if i == 10:\n",
        "    break"
      ],
      "metadata": {
        "colab": {
          "base_uri": "https://localhost:8080/"
        },
        "id": "DYry5mAcreu0",
        "outputId": "862d627e-f9f2-4154-f380-aee410a35527"
      },
      "execution_count": 42,
      "outputs": [
        {
          "output_type": "stream",
          "name": "stdout",
          "text": [
            "ㅎ ㅎ ㅎ ㅎ ㅎ ㅎ ㅎ ㅎ ㅎ ㅎ "
          ]
        }
      ]
    },
    {
      "cell_type": "code",
      "source": [
        "def menu():\n",
        "  print(\"##############\\n\")\n",
        "  print(\"# 1. 덧셈      #\")\n",
        "  print(\"# 2. 뺼셈      #\")\n",
        "  print(\"# 3. 나눗셈    #\")\n",
        "  print(\"# 4. 곱셈      #\")\n",
        "  print(\"# 5. 종료      #\")\n",
        "\n",
        "def add():\n",
        "  num1 = float(input(\"첫번째 숫자를 입력 : \"))\n",
        "  num2 = float(input(\"두번째 숫자를 입력 : \"))\n",
        "  sum = num1 + num2\n",
        "  return sum \n",
        "\n",
        "def sub():\n",
        "  num1 = float(input(\"첫번째 숫자를 입력 : \"))\n",
        "  num2 = float(input(\"두번째 숫자를 입력 : \"))\n",
        "  sum = num1 - num2\n",
        "  return sub\n",
        "\n",
        "def dlv():\n",
        "  num1 = float(input(\"첫번째 숫자를 입력 : \"))\n",
        "  num2 = float(input(\"두번째 숫자를 입력 : \"))\n",
        "  sum = num1 / num2\n",
        "  return dlv\n",
        "\n",
        "def mul():\n",
        "  num1 = float(input(\"첫번째 숫자를 입력 : \"))\n",
        "  num2 = float(input(\"두번째 숫자를 입력 : \"))\n",
        "  sum = num1 * num2\n",
        "  return mul\n",
        "\n",
        "while True :\n",
        " menu()\n",
        " select = int(input(\"메뉴를 선택 : \"))\n",
        " if select == 5:\n",
        "   break\n",
        " elif select == 1:\n",
        "   sum = add()\n",
        "   print(\"두수의 덧셉 결과 : \",sum)\n",
        " elif select == 2:\n",
        "   sub = sub()\n",
        "   print(\"두수의 뺄셉 결과 : \",sub)"
      ],
      "metadata": {
        "colab": {
          "base_uri": "https://localhost:8080/",
          "height": 137
        },
        "id": "z-gAKzi3vFaU",
        "outputId": "1d5b0347-56f1-41e6-abb4-0e788386aa62"
      },
      "execution_count": 51,
      "outputs": [
        {
          "output_type": "error",
          "ename": "IndentationError",
          "evalue": "ignored",
          "traceback": [
            "\u001b[0;36m  File \u001b[0;32m\"<ipython-input-51-fc674b7baee0>\"\u001b[0;36m, line \u001b[0;32m2\u001b[0m\n\u001b[0;31m    print(\"##############\\n\")\u001b[0m\n\u001b[0m    ^\u001b[0m\n\u001b[0;31mIndentationError\u001b[0m\u001b[0;31m:\u001b[0m expected an indented block\n"
          ]
        }
      ]
    }
  ]
}